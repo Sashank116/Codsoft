{
  "nbformat": 4,
  "nbformat_minor": 0,
  "metadata": {
    "colab": {
      "provenance": []
    },
    "kernelspec": {
      "name": "python3",
      "display_name": "Python 3"
    },
    "language_info": {
      "name": "python"
    }
  },
  "cells": [
    {
      "cell_type": "code",
      "source": [
        "tasks = []"
      ],
      "metadata": {
        "id": "yY9ksiq2i7_z"
      },
      "execution_count": 3,
      "outputs": []
    },
    {
      "cell_type": "code",
      "source": [
        "# Function to add a task to the list\n",
        "def add_task(task):\n",
        "    tasks.append(task)\n",
        "    print(f\"Task '{task}' added to the to-do list.\")\n",
        "# Function to remove a task from the list\n",
        "def remove_task(task):\n",
        "    if task in tasks:\n",
        "        tasks.remove(task)\n",
        "        print(f\"Task '{task}' removed from the to-do list.\")\n",
        "    else:\n",
        "        print(f\"Task '{task}' not found in the to-do list.\")"
      ],
      "metadata": {
        "id": "JotjHfftkErd"
      },
      "execution_count": 4,
      "outputs": []
    },
    {
      "cell_type": "code",
      "source": [
        "# Function to display the current tasks\n",
        "def display_tasks():\n",
        "    if not tasks:\n",
        "        print(\"The to-do list is empty.\")\n",
        "    else:\n",
        "        print(\"To-Do List:\")\n",
        "        for index, task in enumerate(tasks, start=1):\n",
        "            print(f\"{index}. {task}\")"
      ],
      "metadata": {
        "id": "TB4m4JgokEu-"
      },
      "execution_count": 5,
      "outputs": []
    },
    {
      "cell_type": "code",
      "source": [
        "# Main loop for the to-do list application\n",
        "while True:\n",
        "    print(\"\\nOptions:\")\n",
        "    print(\"1. Add a task\")\n",
        "    print(\"2. Remove a task\")\n",
        "    print(\"3. Display tasks\")\n",
        "    print(\"4. Quit\")\n",
        "\n",
        "    choice = input(\"Enter your choice (1/2/3/4): \")\n",
        "\n",
        "    if choice == '1':\n",
        "        task = input(\"Enter the task to add: \")\n",
        "        add_task(task)\n",
        "    elif choice == '2':\n",
        "        task = input(\"Enter the task to remove: \")\n",
        "        remove_task(task)\n",
        "    elif choice == '3':\n",
        "        display_tasks()\n",
        "    elif choice == '4':\n",
        "        print(\"Goodbye!\")\n",
        "    else:\n",
        "        print(\"Invalid choice. Please select a valid option (1/2/3/4).\")\n",
        "        break"
      ],
      "metadata": {
        "id": "t5mIrB41kKQE"
      },
      "execution_count": null,
      "outputs": []
    },
    {
      "cell_type": "code",
      "source": [],
      "metadata": {
        "id": "jlCX7UcxkKXL"
      },
      "execution_count": null,
      "outputs": []
    },
    {
      "cell_type": "code",
      "source": [],
      "metadata": {
        "id": "tUTf7EkVjwzf"
      },
      "execution_count": null,
      "outputs": []
    }
  ]
}