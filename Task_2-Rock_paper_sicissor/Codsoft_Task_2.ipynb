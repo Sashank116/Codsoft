{
  "nbformat": 4,
  "nbformat_minor": 0,
  "metadata": {
    "colab": {
      "provenance": []
    },
    "kernelspec": {
      "name": "python3",
      "display_name": "Python 3"
    },
    "language_info": {
      "name": "python"
    }
  },
  "cells": [
    {
      "cell_type": "code",
      "source": [
        "import random\n",
        "\n",
        "\n",
        "def get_user_choice():\n",
        "    while True:\n",
        "        user_choice = input(\"Choose Rock, Paper, or Scissors: \").strip().lower()\n",
        "        if user_choice in (\"rock\", \"paper\", \"scissors\"):\n",
        "            return user_choice\n",
        "        else:\n",
        "            print(\"Invalid choice. Please choose Rock, Paper, or Scissors.\")\n",
        "\n",
        "\n",
        "def get_computer_choice():\n",
        "    return random.choice([\"rock\", \"paper\", \"scissors\"])\n",
        "\n",
        "\n",
        "def determine_winner(user_choice, computer_choice):\n",
        "    if user_choice == computer_choice:\n",
        "        return \"It's a tie!\"\n",
        "    elif (user_choice == \"rock\" and computer_choice == \"scissors\") or \\\n",
        "            (user_choice == \"paper\" and computer_choice == \"rock\") or \\\n",
        "            (user_choice == \"scissors\" and computer_choice == \"paper\"):\n",
        "        return \"You win!\"\n",
        "    else:\n",
        "        return \"Computer wins!\"\n",
        "\n",
        "\n",
        "while True:\n",
        "    user_choice = get_user_choice()\n",
        "    computer_choice = get_computer_choice()\n",
        "    print(f\"You chose {user_choice}.\")\n",
        "    print(f\"Computer chose {computer_choice}.\")\n",
        "\n",
        "    result = determine_winner(user_choice, computer_choice)\n",
        "    print(result)\n",
        "\n",
        "    play_again = input(\"Do you want to play again? (yes/no): \").strip().lower()\n",
        "    if play_again != \"yes\":\n",
        "        break"
      ],
      "metadata": {
        "id": "yY9ksiq2i7_z"
      },
      "execution_count": null,
      "outputs": []
    }
  ]
}