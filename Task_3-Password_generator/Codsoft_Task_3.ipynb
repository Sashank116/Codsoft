{
  "nbformat": 4,
  "nbformat_minor": 0,
  "metadata": {
    "colab": {
      "provenance": []
    },
    "kernelspec": {
      "name": "python3",
      "display_name": "Python 3"
    },
    "language_info": {
      "name": "python"
    }
  },
  "cells": [
    {
      "cell_type": "code",
      "source": [
        "import random\n",
        "import string\n",
        "\n",
        "def generate_password(length=12, use_digits=True, use_special_chars=True):\n",
        "    # Define character sets\n",
        "    lowercase_chars = string.ascii_lowercase\n",
        "    uppercase_chars = string.ascii_uppercase\n",
        "    digit_chars = string.digits if use_digits else ''\n",
        "    special_chars = string.punctuation if use_special_chars else ''\n",
        "\n",
        "    # Combine character sets based on user preferences\n",
        "    all_chars = lowercase_chars + uppercase_chars + digit_chars + special_chars\n",
        "\n",
        "    # Check if the character set is empty\n",
        "    if not all_chars:\n",
        "        return \"Cannot generate a password with the specified constraints.\"\n",
        "\n",
        "    # Generate the password\n",
        "    password = ''.join(random.choice(all_chars) for _ in range(length))\n",
        "    return password\n",
        "\n",
        "# Get user preferences for password generation\n",
        "length = int(input(\"Enter the desired password length: \"))\n",
        "use_digits = input(\"Include digits? (yes/no): \").lower() == \"yes\"\n",
        "use_special_chars = input(\"Include special characters? (yes/no): \").lower() == \"yes\"\n",
        "\n",
        "# Generate and print the password\n",
        "password = generate_password(length, use_digits, use_special_chars)\n",
        "print(\"Generated Password:\", password)"
      ],
      "metadata": {
        "id": "r4lhwWYyn3YP"
      },
      "execution_count": null,
      "outputs": []
    }
  ]
}