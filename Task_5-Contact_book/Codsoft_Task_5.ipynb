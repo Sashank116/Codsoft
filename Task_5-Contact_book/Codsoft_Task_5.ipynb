{
  "nbformat": 4,
  "nbformat_minor": 0,
  "metadata": {
    "colab": {
      "provenance": []
    },
    "kernelspec": {
      "name": "python3",
      "display_name": "Python 3"
    },
    "language_info": {
      "name": "python"
    }
  },
  "cells": [
    {
      "cell_type": "code",
      "source": [
        "import json"
      ],
      "metadata": {
        "id": "yY9ksiq2i7_z"
      },
      "execution_count": 8,
      "outputs": []
    },
    {
      "cell_type": "code",
      "source": [
        "# Function to load contacts from a JSON file\n",
        "def load_contacts(filename):\n",
        "    try:\n",
        "        with open(filename, 'r') as file:\n",
        "            return json.load(file)\n",
        "    except FileNotFoundError:\n",
        "        return []\n",
        "\n",
        "# Function to save contacts to a JSON file\n",
        "def save_contacts(filename, contacts):\n",
        "    with open(filename, 'w') as file:\n",
        "        json.dump(contacts, file, indent=4)\n",
        "\n",
        "# Function to add a new contact\n",
        "def add_contact(contacts, name, phone, email):\n",
        "    contact = {\n",
        "        'Name': name,\n",
        "        'Phone': phone,\n",
        "        'Email': email\n",
        "    }\n",
        "    contacts.append(contact)\n",
        "    print(f\"Contact '{name}' added successfully.\")"
      ],
      "metadata": {
        "id": "C1XKEccgmfjZ"
      },
      "execution_count": 9,
      "outputs": []
    },
    {
      "cell_type": "code",
      "source": [
        "# Function to display all contacts\n",
        "def view_contacts(contacts):\n",
        "    if not contacts:\n",
        "        print(\"No contacts found.\")\n",
        "    else:\n",
        "        print(\"Contacts:\")\n",
        "        for index, contact in enumerate(contacts, start=1):\n",
        "            print(f\"{index}. Name: {contact['Name']}, Phone: {contact['Phone']}, Email: {contact['Email']}\")"
      ],
      "metadata": {
        "id": "7Fr2e30lmpTH"
      },
      "execution_count": 10,
      "outputs": []
    },
    {
      "cell_type": "code",
      "source": [
        "# Function to search for a contact by name\n",
        "def search_contact(contacts, query):\n",
        "    results = [contact for contact in contacts if query.lower() in contact['Name'].lower()]\n",
        "    if not results:\n",
        "        print(\"No matching contacts found.\")\n",
        "    else:\n",
        "        print(\"Matching Contacts:\")\n",
        "        for index, contact in enumerate(results, start=1):\n",
        "            print(f\"{index}. Name: {contact['Name']}, Phone: {contact['Phone']}, Email: {contact['Email']}\")\n"
      ],
      "metadata": {
        "id": "Me60OnB_mpWo"
      },
      "execution_count": 11,
      "outputs": []
    },
    {
      "cell_type": "code",
      "source": [
        "# Function to delete a contact\n",
        "def delete_contact(contacts, index):\n",
        "    if 0 < index <= len(contacts):\n",
        "        deleted_contact = contacts.pop(index - 1)\n",
        "        print(f\"Contact '{deleted_contact['Name']}' deleted successfully.\")\n",
        "    else:\n",
        "        print(\"Invalid index. No contact deleted.\")"
      ],
      "metadata": {
        "id": "MUkPX7BXmtve"
      },
      "execution_count": 12,
      "outputs": []
    },
    {
      "cell_type": "code",
      "source": [
        "def main():\n",
        "    filename = 'contacts.json'\n",
        "    contacts = load_contacts(filename)"
      ],
      "metadata": {
        "id": "X422hfRpnHPb"
      },
      "execution_count": 13,
      "outputs": []
    },
    {
      "cell_type": "code",
      "source": [
        "    while True:\n",
        "        print(\"\\nOptions:\")\n",
        "        print(\"1. Add a contact\")\n",
        "        print(\"2. View contacts\")\n",
        "        print(\"3. Search for a contact\")\n",
        "        print(\"4. Delete a contact\")\n",
        "        print(\"5. Quit\")\n",
        "\n",
        "        choice = input(\"Enter your choice (1/2/3/4/5): \")\n",
        "\n",
        "        if choice == '1':\n",
        "            name = input(\"Enter contact's name: \")\n",
        "            phone = input(\"Enter contact's phone number: \")\n",
        "            email = input(\"Enter contact's email: \")\n",
        "            add_contact(contacts, name, phone, email)\n",
        "        elif choice == '2':\n",
        "            view_contacts(contacts)\n",
        "        elif choice == '3':\n",
        "            query = input(\"Enter search query (Name): \")\n",
        "            search_contact(contacts, query)\n",
        "        elif choice == '4':\n",
        "            view_contacts(contacts)\n",
        "            index = int(input(\"Enter the index of the contact to delete: \"))\n",
        "            delete_contact(contacts, index)\n",
        "        elif choice == '5':\n",
        "            save_contacts(filename, contacts)\n",
        "            print(\"Contacts saved. Goodbye!\")\n",
        "            break\n",
        "        else:\n",
        "            print(\"Invalid choice. Please select a valid option (1/2/3/4/5).\")\n"
      ],
      "metadata": {
        "colab": {
          "base_uri": "https://localhost:8080/"
        },
        "id": "bLLoiJ_dmtyy",
        "outputId": "411ff087-e99f-4116-f186-be6a54e19614"
      },
      "execution_count": null,
      "outputs": [
        {
          "output_type": "stream",
          "name": "stdout",
          "text": [
            "\n",
            "Options:\n",
            "1. Add a contact\n",
            "2. View contacts\n",
            "3. Search for a contact\n",
            "4. Delete a contact\n",
            "5. Quit\n"
          ]
        }
      ]
    },
    {
      "cell_type": "code",
      "source": [
        "if _name_ == \"_main_\":\n",
        "    main()"
      ],
      "metadata": {
        "id": "tUTf7EkVjwzf"
      },
      "execution_count": null,
      "outputs": []
    }
  ]
}